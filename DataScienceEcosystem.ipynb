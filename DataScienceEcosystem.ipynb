{
 "cells": [
  {
   "cell_type": "markdown",
   "id": "3ba139fb-0980-45d8-8377-1efd22a6e53b",
   "metadata": {},
   "source": [
    " # Data Science Tools and Ecosystem"
   ]
  },
  {
   "cell_type": "markdown",
   "id": "5df70b56-3441-4bc8-ad60-7c75ec035f23",
   "metadata": {},
   "source": [
    "In this notebook, Data Science Tools and Ecosystem are summarized."
   ]
  },
  {
   "cell_type": "markdown",
   "id": "e6d921c3-96de-4691-8d18-da3233fd8e5d",
   "metadata": {},
   "source": [
    "**Objectives:**\n",
    "\n",
    "- List popular languages for Data Science  \n",
    "- Identify commonly used libraries by Data Scientists  \n",
    "- Create Markdown-formatted ordered and unordered lists  \n",
    "- Build and format tables using Markdown  \n",
    "- Understand basic arithmetic expression evaluation in Python"
   ]
  },
  {
   "cell_type": "markdown",
   "id": "5cd64863-ff37-4f2a-b995-e39814bbf30c",
   "metadata": {},
   "source": [
    "Some of the popular languages that Data Scientists use are:\n",
    "1. Python\n",
    "2. R\n",
    "3. SQL\n",
    "4. MATLAB\n",
    "5. Java"
   ]
  },
  {
   "cell_type": "markdown",
   "id": "a27a4651-7466-41a3-b648-2e63e90a935b",
   "metadata": {},
   "source": [
    "Some of the commonly used libraries used by Data Scientists include:\n",
    "1. Numpy\n",
    "2. Pandas\n",
    "3. Matplotlib\n",
    "4. Seaborn\n",
    "5. scikit-learn"
   ]
  },
  {
   "cell_type": "markdown",
   "id": "678f8f1b-79b7-42b0-9a4f-eb49c0ccc15a",
   "metadata": {},
   "source": [
    "| Data Science Tools              |\n",
    "|--------------------------------|\n",
    "| Jupyter Notebook               |\n",
    "| RStudio                        |\n",
    "| Apache Zeppelin                |\n"
   ]
  },
  {
   "cell_type": "markdown",
   "id": "9bbc7c5f-7852-41f1-9016-35f3d25df235",
   "metadata": {},
   "source": [
    "### Below are a few examples of evaluating arithmetic expressions in Python."
   ]
  },
  {
   "cell_type": "code",
   "execution_count": 2,
   "id": "5e5d139f-faf8-4d4c-b18e-af646ace84d4",
   "metadata": {},
   "outputs": [
    {
     "data": {
      "text/plain": [
       "17"
      ]
     },
     "execution_count": 2,
     "metadata": {},
     "output_type": "execute_result"
    }
   ],
   "source": [
    "# This a simple arithmetic expression to mutiply then add integers\n",
    "(3*4)+5"
   ]
  },
  {
   "cell_type": "code",
   "execution_count": 5,
   "id": "c840df84-c7c8-4902-9ed3-2e4f229a5c1e",
   "metadata": {},
   "outputs": [
    {
     "name": "stdout",
     "output_type": "stream",
     "text": [
      "3.333\n"
     ]
    }
   ],
   "source": [
    "# This will convert 200 minutes to hours by diving by 60\n",
    "min=200\n",
    "min_to_hr=min/60\n",
    "print(round(min_to_hr, 3))"
   ]
  },
  {
   "cell_type": "markdown",
   "id": "82f90c2a-d8fc-46e5-aa8a-e177522e40f7",
   "metadata": {},
   "source": [
    "## Author  \n",
    "Keerthi Reddy"
   ]
  }
 ],
 "metadata": {
  "kernelspec": {
   "display_name": "Python 3 (ipykernel)",
   "language": "python",
   "name": "python3"
  },
  "language_info": {
   "codemirror_mode": {
    "name": "ipython",
    "version": 3
   },
   "file_extension": ".py",
   "mimetype": "text/x-python",
   "name": "python",
   "nbconvert_exporter": "python",
   "pygments_lexer": "ipython3",
   "version": "3.12.8"
  }
 },
 "nbformat": 4,
 "nbformat_minor": 5
}
